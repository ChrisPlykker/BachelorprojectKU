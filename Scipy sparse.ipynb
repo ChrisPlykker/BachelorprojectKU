{
 "cells": [
  {
   "cell_type": "code",
   "execution_count": 1,
   "id": "883155bb",
   "metadata": {},
   "outputs": [],
   "source": [
    "#Importing the relevant libraries\n",
    "import numpy as np\n",
    "import matplotlib.pyplot as plt\n",
    "from scipy import sparse"
   ]
  },
  {
   "cell_type": "code",
   "execution_count": 2,
   "id": "b0a3438f",
   "metadata": {},
   "outputs": [],
   "source": [
    "#Code to make sure the font is as i want it in the plots:\n",
    "plt.rc('font',family='Times New Roman')"
   ]
  },
  {
   "cell_type": "code",
   "execution_count": 3,
   "id": "b23e2c48",
   "metadata": {},
   "outputs": [],
   "source": [
    "#First, we´ll make the discrete hamiltonian function:\n",
    "def Hamiltonian_adjustable_accuracy(P, P_range, V, m, diff_matrix):\n",
    "    \"\"\" \n",
    "    \n",
    "    Constructs, and returns the hamiltonian of a given system in discretised matrix form(with hbar=1), using \n",
    "    a finite difference scheme of the given accuracy specified. P is the number of points as an \n",
    "    integer, P_range is an array consisting of the starting and ending x-value in the given range one wants the problem solved for. p[0] is the smallest \n",
    "    value,, while p[1] is the biggest(in the positive direction).\n",
    "\n",
    "\n",
    "    \"\"\"\n",
    "    h_bar = 1\n",
    "    x_vals = np.linspace(P_range[0], P_range[1], P)\n",
    "    dx = (P_range[1] - P_range[0])/P\n",
    "\n",
    "    V_matrix = np.diag(V(x_vals, m))\n",
    "    ddf = diff_matrix(P, dx)\n",
    "    \n",
    "    return (-h_bar**2/(2*m)*ddf + V_matrix)\n",
    "\n",
    "#Next, we´ll construct some more accurate derivative matrices using the table from https://en.wikipedia.org/wiki/Finite_difference_coefficient´ central\n",
    "# difference scheme of second order derivatives(Do note, however, that there is a slight inaccuracy, owing to the fact, that i´ve only used \n",
    "# the central difference scheme, which is tecnically not correct at the edges. It does not, to my knowledge, matter for the end result):\n",
    "def Derivative_Matrix_Accuracy_4(P, dx):\n",
    "    \"\"\"  \n",
    "    Makes the second order discretised differentiated function in matrix form. dx is the spacing between points, while P is the total number \n",
    "    of points to be found. Returns the matrix as an numpy array. Accuracy of 4, according to the wiki. P is the number of points, while\n",
    "    dx is the spacing\n",
    "\n",
    "    \"\"\"\n",
    "    coeffs_of_function_vals = (-1/12 *np.ones(P-2) , 4/3 *np.ones(P-1) , -5/2*np.ones(P))\n",
    "    ddf = (1/dx**2)*(np.diag(coeffs_of_function_vals[0], -2) + np.diag(coeffs_of_function_vals[1], -1) + np.diag(coeffs_of_function_vals[2], 0) + np.diag(coeffs_of_function_vals[1], 1) + np.diag(coeffs_of_function_vals[0], 2))\n",
    "    return ddf\n",
    "\n",
    "def Derivative_Matrix_Accuracy_8(P, dx):\n",
    "    \"\"\"  \n",
    "    Makes the second order discretised differentiated function in matrix form. dx is the spacing between points, while P is the total number \n",
    "    of points to be found. Returns the matrix as an numpy array. Accuracy of 8, according to the wiki. P is the number of points, while\n",
    "    dx is the spacing\n",
    "\n",
    "    \"\"\"\n",
    "    coeffs_of_function_vals = (-1/560 *np.ones(P-4) , 8/315 *np.ones(P-3) , -1/5*np.ones(P-2), 8/5 *np.ones(P-1), -205/72 * np.ones(P))\n",
    "    ddf = (1/dx**2)*(np.diag(coeffs_of_function_vals[0], -4) + np.diag(coeffs_of_function_vals[1], -3) + np.diag(coeffs_of_function_vals[2], -2) + np.diag(coeffs_of_function_vals[3], -1) + np.diag(coeffs_of_function_vals[4], 0) + np.diag(coeffs_of_function_vals[3], 1) + np.diag(coeffs_of_function_vals[2], 2) + np.diag(coeffs_of_function_vals[1], 3) + np.diag(coeffs_of_function_vals[0], 4))\n",
    "    return ddf"
   ]
  },
  {
   "cell_type": "code",
   "execution_count": 4,
   "id": "76b92d38",
   "metadata": {},
   "outputs": [],
   "source": [
    "#We now want to solve our given problem. The following have been made as a general function, but we´ll only need m=1, as that is \n",
    "#what ended up nescesarry for the project:\n",
    "def V(x, m):\n",
    "    \"\"\"  \n",
    "    \n",
    "    Returns an anharmonic oscillator of the form m*x**4, with m the mass, which is allowed to be variable. x should be an array of the x values you want\n",
    "    the function evaluated for.\n",
    "\n",
    "    \"\"\"\n",
    "    return m*x**4\n",
    "\n",
    "#Constructing the hamiltonian, and defining ranges and points:\n",
    "P = 18000\n",
    "P_range = [-100, 100]\n",
    "m = 1\n",
    "H = Hamiltonian_adjustable_accuracy(P, P_range, V, m, Derivative_Matrix_Accuracy_8)\n"
   ]
  },
  {
   "cell_type": "code",
   "execution_count": 5,
   "id": "5b3257f3",
   "metadata": {},
   "outputs": [],
   "source": [
    "#Next, we´ll use the fact, that scipy has a usefull feature called sparse matrices, such that our calculation doesn´t take ages, and is more accurate.\n",
    "#As such, sH simply refers to the fact, that this is the scipy version of the hamiltonian. \n",
    "sH = sparse.csr_matrix(H)\n",
    "\n",
    "#Next, we simply solve the eigenvalue problem. Note that, as i recall, sigma=0 makes sure the eigenvalues actually start at the lowest, rather than\n",
    "#highest point. I.e., remove it, and you get values in the 10^8 range. eigs are energy, and vects are the transposed eigenstates(need .T to plot)\n",
    "eigs, vects = sparse.linalg.eigsh(sH, k=100, sigma=0)"
   ]
  },
  {
   "cell_type": "code",
   "execution_count": 6,
   "id": "4a97745b",
   "metadata": {},
   "outputs": [],
   "source": [
    "#We want to compare to the variational result, so let´s find them. We first want a function based on the result from the report:\n",
    "def variational_anharmonic(x):\n",
    "    \"\"\"  \n",
    "    \n",
    "    Returns the supersymmetric variational approximation to the energies of the \n",
    "    anharmonic oscillator of the form x**4. x is an array of values you want this function evaluated for.\n",
    "\n",
    "    \"\"\"\n",
    "    return (3/16 + x)*4*(3/4)**(1/4)\n",
    "\n",
    "#Then we need some values to evaluate it at, which are rounded, in case of some weird floating point stuff happen. Though strictly speaking not nescesarry\n",
    "#I think.\n",
    "nvals = np.linspace(0, 100, 101)\n",
    "nvals = np.round(nvals)\n",
    "#Lastly, we´ll calculate the values:\n",
    "var_anhamronic_energies = variational_anharmonic(nvals)"
   ]
  },
  {
   "cell_type": "code",
   "execution_count": 7,
   "id": "955bc13c",
   "metadata": {},
   "outputs": [
    {
     "data": {
      "image/png": "[encoded data removed]",
      "text/plain": [
       "<Figure size 640x480 with 1 Axes>"
      ]
     },
     "metadata": {},
     "output_type": "display_data"
    }
   ],
   "source": [
    "#And then plot the results of our efforts:\n",
    "#plt.title(\"Comparison of numerical and variational estimations of energies\")\n",
    "plt.plot(eigs, \".\", label=\"Numerical estimation\")\n",
    "plt.plot(var_anhamronic_energies, \".\",  label = \"Variational estimation\")\n",
    "plt.xlabel(\"n\")\n",
    "plt.ylabel(\"E(n)\")\n",
    "plt.xlim(0, 40)\n",
    "plt.ylim(0, 240)\n",
    "plt.grid()\n",
    "plt.legend()\n",
    "plt.savefig(\"NumericalVSvariationalANHARM.png\")"
   ]
  },
  {
   "cell_type": "code",
   "execution_count": null,
   "id": "f82ce009",
   "metadata": {},
   "outputs": [],
   "source": []
  }
 ],
 "metadata": {
  "kernelspec": {
   "display_name": "base",
   "language": "python",
   "name": "python3"
  },
  "language_info": {
   "codemirror_mode": {
    "name": "ipython",
    "version": 3
   },
   "file_extension": ".py",
   "mimetype": "text/x-python",
   "name": "python",
   "nbconvert_exporter": "python",
   "pygments_lexer": "ipython3",
   "version": "3.11.5"
  }
 },
 "nbformat": 4,
 "nbformat_minor": 5
}
